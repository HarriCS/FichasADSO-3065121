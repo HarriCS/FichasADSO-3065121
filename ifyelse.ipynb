{
  "nbformat": 4,
  "nbformat_minor": 0,
  "metadata": {
    "colab": {
      "provenance": []
    },
    "kernelspec": {
      "name": "python3",
      "display_name": "Python 3"
    },
    "language_info": {
      "name": "python"
    }
  },
  "cells": [
    {
      "cell_type": "markdown",
      "source": [
        "if se utiliza para cumplir una condicion en un codigo\n",
        "\n",
        "else se utiliza cuando el if no es verdadero\n",
        "\n"
      ],
      "metadata": {
        "id": "H3fzuu3Jm9ov"
      }
    },
    {
      "cell_type": "code",
      "source": [
        "#se define una variable\n",
        "h = 31\n",
        "#if se utiliza para cumplir una condicion en este caso es que h sea mayor o igual a 18\n",
        "if h >= 18:\n",
        "#si se cumple la condicion se imprime Eres mayo de edad\n",
        "  print (\"Eres mayor de edad\")\n",
        "#else se imprime en el caso de que la condicion no sea verdadera ejemplo que el valor de h sea menor a 18\n",
        "else:\n",
        "#si no se cumple la condicion se imprime eres menor de edad\n",
        "  print (\"Eres menor de edad\")"
      ],
      "metadata": {
        "colab": {
          "base_uri": "https://localhost:8080/"
        },
        "id": "id2SEhWOm93b",
        "outputId": "c4aa02a3-724e-423c-f4eb-d96b2904c443"
      },
      "execution_count": null,
      "outputs": [
        {
          "output_type": "stream",
          "name": "stdout",
          "text": [
            "Eres mayor de edad\n"
          ]
        }
      ]
    },
    {
      "cell_type": "markdown",
      "source": [
        "aqui va el audio"
      ],
      "metadata": {
        "id": "fLz_pwtip88d"
      }
    },
    {
      "cell_type": "code",
      "source": [
        "an = 2008\n",
        "if an < 2007:\n",
        "  print (\"Eres mayor de edad\")\n",
        "else:\n",
        "  print (\"Eres menor de edad\")"
      ],
      "metadata": {
        "colab": {
          "base_uri": "https://localhost:8080/"
        },
        "id": "IViDsv67p-Yw",
        "outputId": "3683650a-1ec4-4676-9592-e987d069fee2"
      },
      "execution_count": null,
      "outputs": [
        {
          "output_type": "stream",
          "name": "stdout",
          "text": [
            "Eres menor de edad\n"
          ]
        }
      ]
    }
  ]
}