{
  "nbformat": 4,
  "nbformat_minor": 0,
  "metadata": {
    "colab": {
      "provenance": []
    },
    "kernelspec": {
      "name": "python3",
      "display_name": "Python 3"
    },
    "language_info": {
      "name": "python"
    }
  },
  "cells": [
    {
      "cell_type": "markdown",
      "source": [
        "son bloques de codgo reutilizables"
      ],
      "metadata": {
        "id": "c4oCfHGlDanV"
      }
    },
    {
      "cell_type": "code",
      "source": [
        "#Funcion sin parametros\n",
        "def bienvenido () :\n",
        "  print (\"Bienvenido a este codigo!\")\n",
        "bienvenido ()"
      ],
      "metadata": {
        "colab": {
          "base_uri": "https://localhost:8080/"
        },
        "id": "37bshRZ2Dbz_",
        "outputId": "6253eebc-3b15-4fdd-84fc-740ca7623f28"
      },
      "execution_count": null,
      "outputs": [
        {
          "output_type": "stream",
          "name": "stdout",
          "text": [
            "Bienvenido a este codigo!\n"
          ]
        }
      ]
    },
    {
      "cell_type": "code",
      "source": [
        "#Funcion con parametros\n",
        "def bienvenido(Harrison):\n",
        "  print (f\"Bienvenido {Harrison}\")\n",
        "bienvenido(\"Harrison\")"
      ],
      "metadata": {
        "colab": {
          "base_uri": "https://localhost:8080/"
        },
        "id": "Xs9WRC3bDzgN",
        "outputId": "00016b9b-9294-4948-a756-a0ef275ebf5e"
      },
      "execution_count": null,
      "outputs": [
        {
          "output_type": "stream",
          "name": "stdout",
          "text": [
            "Bienvenido Harrison\n"
          ]
        }
      ]
    },
    {
      "cell_type": "code",
      "source": [
        "#Función con parámetros y retorno\n",
        "def multiplicacion (a, b):\n",
        "  return a * b\n",
        "multiplicacion = multiplicacion(3, 10)\n",
        "print(multiplicacion)"
      ],
      "metadata": {
        "colab": {
          "base_uri": "https://localhost:8080/"
        },
        "id": "sFYF2ZEJEQKi",
        "outputId": "b9b799c7-c4d9-4253-8be2-4009ce462195"
      },
      "execution_count": null,
      "outputs": [
        {
          "output_type": "stream",
          "name": "stdout",
          "text": [
            "30\n"
          ]
        }
      ]
    },
    {
      "cell_type": "code",
      "source": [
        "#Función con valores por defecto\n",
        "def b1(s1 = \"como te puedo ayudar? \"):\n",
        "  print (f\"Hola, {s1}\")\n",
        "b1 ()\n",
        "b1 (\"Harri\")"
      ],
      "metadata": {
        "colab": {
          "base_uri": "https://localhost:8080/"
        },
        "id": "nluze167EkQS",
        "outputId": "b6632601-f6b0-4ccc-9588-b968e17be25a"
      },
      "execution_count": null,
      "outputs": [
        {
          "output_type": "stream",
          "name": "stdout",
          "text": [
            "Hola, como te puedo ayudar? \n",
            "Hola, Harri\n"
          ]
        }
      ]
    }
  ]
}