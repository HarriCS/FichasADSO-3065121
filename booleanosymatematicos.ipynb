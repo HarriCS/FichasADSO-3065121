{
  "nbformat": 4,
  "nbformat_minor": 0,
  "metadata": {
    "colab": {
      "provenance": []
    },
    "kernelspec": {
      "name": "python3",
      "display_name": "Python 3"
    },
    "language_info": {
      "name": "python"
    }
  },
  "cells": [
    {
      "cell_type": "markdown",
      "source": [
        "adn : deben de haber dos true para que sea true de lo contrario todo sera false ( and hace referena a que si x y y se cumplen es true de lo contrario es false)\n",
        "\n",
        "or: deben de haber dos false para que sea false de lo contrario todo sera true\n",
        "( or hace refercia a que si x o y se cumplen es true ya que pide dos condiciones la unica manera que sea false es que ambas condiciones sean false)  \n",
        "\n",
        "not: hace negacion (el not cambia un true por false y viceversa)\n"
      ],
      "metadata": {
        "id": "sQi0SEBtsYD-"
      }
    },
    {
      "cell_type": "code",
      "source": [
        "# suma\n",
        "senor pato\n",
        "#se declaran las variables n1 y n2 con valores numericos\n",
        "n1 = 545\n",
        "n2 = 1534\n",
        "#se declara otra variable llamada suma y se le realiza una operacion matematica donde se suman las dos variables que definimos al inicio\n",
        "suma = n1 + n2\n",
        "#se imprime el resultado de n1 + n2\n",
        "print (suma)"
      ],
      "metadata": {
        "colab": {
          "base_uri": "https://localhost:8080/"
        },
        "id": "hHv1lpZTsXAP",
        "outputId": "7146745a-ef8e-49ac-9254-58e567dffcb0"
      },
      "execution_count": null,
      "outputs": [
        {
          "output_type": "stream",
          "name": "stdout",
          "text": [
            "2079\n"
          ]
        }
      ]
    },
    {
      "cell_type": "markdown",
      "source": [
        "https://harrics.github.io/FichasADSO-3065121/operacionesmatematicas/operacionesmatematicas.mp3"
      ],
      "metadata": {
        "id": "OfPOr3f9K6SY"
      }
    },
    {
      "cell_type": "code",
      "source": [
        "#resta\n",
        "#se declaran las variables n1 y n2 con valores numericos1 = 100\n",
        "n1 = 132142\n",
        "n2 = 50\n",
        "#se declara otra variable llamada resta y se le realiza una operacion matematica donde se restan las dos variables que definimos al inicio\n",
        "resta = n1-n2\n",
        "#se imprime el resultado de n1 + n2\n",
        "print (resta)"
      ],
      "metadata": {
        "colab": {
          "base_uri": "https://localhost:8080/"
        },
        "id": "jFHSjOHGrbO8",
        "outputId": "b79ab82d-e0c1-4d7e-bb9f-1d7c28fe0d3c"
      },
      "execution_count": null,
      "outputs": [
        {
          "output_type": "stream",
          "name": "stdout",
          "text": [
            "132092\n"
          ]
        }
      ]
    },
    {
      "cell_type": "markdown",
      "source": [
        "https://harrics.github.io/FichasADSO-3065121/operacionesmatematicas/operacionesmatematicas.mp3"
      ],
      "metadata": {
        "id": "2xlk9-RMK68K"
      }
    },
    {
      "cell_type": "code",
      "source": [
        "#multiplicacion\n",
        "#se declaran las variables n1 y n2 con valores numericos\n",
        "n1 = 5\n",
        "n2 = 30\n",
        "#se declara otra variable llamada multiplicacion y se le realiza una operacion matematica donde se multiplican las dos variables que definimos al inicio\n",
        "multiplicacion = n1*n2\n",
        "#se imprime el resultado de n1 + n2\n",
        "print (multiplicacion)"
      ],
      "metadata": {
        "colab": {
          "base_uri": "https://localhost:8080/"
        },
        "id": "2CNrFa6vrcQ-",
        "outputId": "a8a4ed17-8142-426a-e614-514f4b090438"
      },
      "execution_count": null,
      "outputs": [
        {
          "output_type": "stream",
          "name": "stdout",
          "text": [
            "150\n"
          ]
        }
      ]
    },
    {
      "cell_type": "markdown",
      "source": [
        "https://harrics.github.io/FichasADSO-3065121/operacionesmatematicas/operacionesmatematicas.mp3"
      ],
      "metadata": {
        "id": "gGeOEWRpK7g0"
      }
    },
    {
      "cell_type": "code",
      "source": [
        "#division\n",
        "#se declaran las variables n1 y n2 con valores numericos\n",
        "n1 = 12312\n",
        "n2 = 535\n",
        "#se declara otra variable llamada division y se le realiza una operacion matematica donde se dividen las dos variables que definimos al inicio\n",
        "division = n1/n2\n",
        "#se imprime el resultado de n1 + n2\n",
        "print (division)"
      ],
      "metadata": {
        "colab": {
          "base_uri": "https://localhost:8080/"
        },
        "id": "CwmbuCqwrd9A",
        "outputId": "15001b7e-5810-4291-a732-5bba56de3eab"
      },
      "execution_count": null,
      "outputs": [
        {
          "output_type": "stream",
          "name": "stdout",
          "text": [
            "23.01308411214953\n"
          ]
        }
      ]
    },
    {
      "cell_type": "markdown",
      "source": [
        "https://harrics.github.io/FichasADSO-3065121/operacionesmatematicas/operacionesmatematicas.mp3"
      ],
      "metadata": {
        "id": "U8TFjiOyK8As"
      }
    },
    {
      "cell_type": "code",
      "source": [
        "# solo la primera cumple la condicion de terner dos verdaderas por eso solo esa imprime true\n",
        "print(True and True)  # True\n",
        "print(True and False) # False\n",
        "print(False and True) # False\n",
        "print(False and False) # False"
      ],
      "metadata": {
        "colab": {
          "base_uri": "https://localhost:8080/"
        },
        "id": "rX6Doqqcs2Qc",
        "outputId": "061ef58f-2325-45c2-d566-7b1da1617103"
      },
      "execution_count": null,
      "outputs": [
        {
          "output_type": "stream",
          "name": "stdout",
          "text": [
            "True\n",
            "False\n",
            "False\n",
            "False\n"
          ]
        }
      ]
    },
    {
      "cell_type": "markdown",
      "source": [
        "https://harrics.github.io/FichasADSO-3065121/and/and.mp3\n",
        "\n"
      ],
      "metadata": {
        "id": "Fe6aM4WPK8le"
      }
    },
    {
      "cell_type": "code",
      "source": [
        "# para que or imprima false ambas condiciones deben de ser falsas\n",
        "print(True or True)  # True\n",
        "print(True or False) # True\n",
        "print(False or True) # True\n",
        "print(False or False) # False"
      ],
      "metadata": {
        "colab": {
          "base_uri": "https://localhost:8080/"
        },
        "id": "mJP1TUXSs8gW",
        "outputId": "cb79037b-5d5e-4179-f4be-8538b89909f8"
      },
      "execution_count": null,
      "outputs": [
        {
          "output_type": "stream",
          "name": "stdout",
          "text": [
            "True\n",
            "True\n",
            "True\n",
            "False\n"
          ]
        }
      ]
    },
    {
      "cell_type": "markdown",
      "source": [
        "https://harrics.github.io/FichasADSO-3065121/or/or.mp3"
      ],
      "metadata": {
        "id": "64_49O12K9Gn"
      }
    },
    {
      "cell_type": "code",
      "source": [
        "#el not se utiliza como negacion\n",
        "print(not True)  # False\n",
        "print(not False) # True"
      ],
      "metadata": {
        "colab": {
          "base_uri": "https://localhost:8080/"
        },
        "id": "Xt9hmFfLs8mM",
        "outputId": "ff70e4aa-1de2-4863-d03a-a782a33de3f0"
      },
      "execution_count": null,
      "outputs": [
        {
          "output_type": "stream",
          "name": "stdout",
          "text": [
            "False\n",
            "True\n"
          ]
        }
      ]
    },
    {
      "cell_type": "markdown",
      "source": [
        "https://harrics.github.io/FichasADSO-3065121/not/not.mp3\n",
        "\n"
      ],
      "metadata": {
        "id": "Dy6DPSuUK9q-"
      }
    }
  ]
}