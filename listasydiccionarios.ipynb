{
  "nbformat": 4,
  "nbformat_minor": 0,
  "metadata": {
    "colab": {
      "provenance": []
    },
    "kernelspec": {
      "name": "python3",
      "display_name": "Python 3"
    },
    "language_info": {
      "name": "python"
    }
  },
  "cells": [
    {
      "cell_type": "markdown",
      "source": [
        "Listas: Las listas en Python es un codigo que permiten almacenar números, cadenas, objetos y otras listas y manejan posiciones que inician en 0,1,2,3,4 siempre va dentro de : [ ]\n",
        "\n",
        "Diccionarios: Los diccionarios son codigos que permiten almacenar informacion y aceder a ella rapidamente asignando valores a cada archivo y siempre va dentro de { } ejem {\"usuario\":contraseña,}\n",
        "\n",
        "Variables: Es un nombre que se utiliza para almacenar un valor o dato  ejemplo nombre = \"harrison\" -                                                                                                                                                                                                                                                                                       "
      ],
      "metadata": {
        "id": "wUfFkEvb-97f"
      }
    },
    {
      "cell_type": "code",
      "source": [
        "#ejemplo de listas\n",
        "\n",
        "# Crear una lista de números\n",
        "num = [1, 2, 3, 4, 5, 6, 7, 8, 9, 10]\n",
        "# Imprimir la lista\n",
        "print(numeros)\n"
      ],
      "metadata": {
        "colab": {
          "base_uri": "https://localhost:8080/"
        },
        "id": "qOoWrNy7HP85",
        "outputId": "bcaa2045-c736-4be4-fe0d-3257cacd58fb"
      },
      "execution_count": null,
      "outputs": [
        {
          "output_type": "stream",
          "name": "stdout",
          "text": [
            "[1, 2, 3, 4, 5, 6, 7, 8, 9, 10]\n"
          ]
        }
      ]
    },
    {
      "cell_type": "markdown",
      "source": [
        "Aqui esta mi audio"
      ],
      "metadata": {
        "id": "NLwYi2AqIFCo"
      }
    },
    {
      "cell_type": "code",
      "source": [
        "#codigo\n",
        "color = [\"amarillo\", \"azul\", \"rojo\", \"negro\", \"verde\" ]\n",
        "print(color)"
      ],
      "metadata": {
        "id": "GSud79swIHY_",
        "colab": {
          "base_uri": "https://localhost:8080/"
        },
        "outputId": "4d29d67f-4658-43cf-d27b-458b0c9615b3"
      },
      "execution_count": null,
      "outputs": [
        {
          "output_type": "stream",
          "name": "stdout",
          "text": [
            "['amarillo', 'azul', 'rojo', 'negro', 'verde', 'morado']\n"
          ]
        }
      ]
    },
    {
      "cell_type": "markdown",
      "source": [
        "https://harrics.github.io/FichasADSO-3065121/listas/Listas.mp3"
      ],
      "metadata": {
        "id": "PFL1BmkgYh2Y"
      }
    },
    {
      "cell_type": "code",
      "source": [
        "#ejemplo diccionario\n",
        "\n",
        "#se crea el diccionario\n",
        "usuario = {\n",
        "    \"nombre\": \"Harrison\",\n",
        "    \"edad\": 31,\n",
        "    \"ciudad\": \"Medellin\"\n",
        "}\n",
        "#se imprime el diccionario\n",
        "print(usuario)"
      ],
      "metadata": {
        "colab": {
          "base_uri": "https://localhost:8080/"
        },
        "id": "HL3wlZZBILHZ",
        "outputId": "58bdd527-29cd-4ed4-bdbb-ac95cfb41945",
        "collapsed": true
      },
      "execution_count": null,
      "outputs": [
        {
          "output_type": "stream",
          "name": "stdout",
          "text": [
            "{'nombre': 'Harrison', 'edad': 31, 'ciudad': 'Medellin'}\n"
          ]
        }
      ]
    },
    {
      "cell_type": "markdown",
      "source": [
        "https://harrics.github.io/FichasADSO-3065121/diccionario/diccionario.mp3\n"
      ],
      "metadata": {
        "id": "yop0AWoeI9dn"
      }
    },
    {
      "cell_type": "code",
      "source": [
        "#codigo\n",
        "carro1= {\n",
        "    \"marca\": \"kia\",\n",
        "    \"modelo\": \"picanto\",\n",
        "    \"año\": 2024,\n",
        "    \"color\": \"blanco\",\n",
        "}\n",
        "carro2= {\n",
        "    \"marca\": \"toyota\",\n",
        "    \"modelo\": \"corolla\",\n",
        "    \"año\": 2021,\n",
        "    \"color\": \"gris\",\n",
        "}\n",
        "carro3= {\n",
        "    \"marca\": \"honda\",\n",
        "    \"modelo\": \"civic\",\n",
        "    \"año\": 1993,\n",
        "    \"color\": \"gris\",\n",
        "}\n",
        "print(carro1)\n",
        "print(carro2)\n",
        "print(carro3)\n"
      ],
      "metadata": {
        "id": "0AFbfj4JJAnf",
        "colab": {
          "base_uri": "https://localhost:8080/"
        },
        "outputId": "ad2ecee4-d00e-487c-f40f-0539d3607a68"
      },
      "execution_count": null,
      "outputs": [
        {
          "output_type": "stream",
          "name": "stdout",
          "text": [
            "{'marca': 'kia', 'modelo': 'picanto', 'año': 2024, 'color': 'blanco'}\n",
            "{'marca': 'toyota', 'modelo': 'corolla', 'año': 2021, 'color': 'gris'}\n",
            "{'marca': 'honda', 'modelo': 'civic', 'año': 1993, 'color': 'gris'}\n"
          ]
        }
      ]
    },
    {
      "cell_type": "code",
      "source": [
        "#se crea una variable tipo cadena llamada nombre y se asigna el valor de Harrison\n",
        "nombre = \"Harrison\"\n",
        "# se imprime el valor de la variable nombre\n",
        "print(nombre)"
      ],
      "metadata": {
        "colab": {
          "base_uri": "https://localhost:8080/"
        },
        "id": "YvQQeJP-aq8o",
        "outputId": "ed0aad1e-53b8-4bc5-c817-a708f165a581"
      },
      "execution_count": null,
      "outputs": [
        {
          "output_type": "stream",
          "name": "stdout",
          "text": [
            "Harrison\n"
          ]
        }
      ]
    },
    {
      "cell_type": "markdown",
      "source": [
        "Aqui va mi audio"
      ],
      "metadata": {
        "id": "AK73TVV9cEK2"
      }
    },
    {
      "cell_type": "code",
      "source": [
        "#se crea una variable tipo entero\n",
        "num = 1993\n",
        "#se imprime el valor de la variable num\n",
        "print (num)"
      ],
      "metadata": {
        "colab": {
          "base_uri": "https://localhost:8080/"
        },
        "id": "I90L2k9ibSgc",
        "outputId": "038819c7-2a45-41ad-9f9c-c04000ae1fb4"
      },
      "execution_count": null,
      "outputs": [
        {
          "output_type": "stream",
          "name": "stdout",
          "text": [
            "1993\n"
          ]
        }
      ]
    }
  ]
}