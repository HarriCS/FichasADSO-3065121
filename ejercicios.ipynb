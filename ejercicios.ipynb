{
  "nbformat": 4,
  "nbformat_minor": 0,
  "metadata": {
    "colab": {
      "provenance": []
    },
    "kernelspec": {
      "name": "python3",
      "display_name": "Python 3"
    },
    "language_info": {
      "name": "python"
    }
  },
  "cells": [
    {
      "cell_type": "code",
      "execution_count": null,
      "metadata": {
        "colab": {
          "base_uri": "https://localhost:8080/"
        },
        "id": "-nOtXii13kBO",
        "outputId": "ed1b4447-3ccd-4767-cf97-56e28315191a"
      },
      "outputs": [
        {
          "output_type": "stream",
          "name": "stdout",
          "text": [
            "El número mayor es: 10\n"
          ]
        }
      ],
      "source": [
        "#Ejercicios Algoritmicos\n",
        "\n",
        "#1 Dado un arreglo de números enteros, escribe una función que reciba el arreglo como parámetro y devuelva el mayor de los números en el arreglo utilizando una estructura if-else.\n",
        "\n",
        "numeros = [1, 2, 3, 4, 5, 6, 7, 8, 9, 10] #aqui se crea una lista con numero del 1 al 10\n",
        "\n",
        "def numeromayor(arreglo): #declaramos la funcion arreglo\n",
        "\n",
        "    if len(arreglo) == 0:#aqui indicamos que si la lista esta vacia\n",
        "        return None #decimos que no existe\n",
        "\n",
        "    mayor = arreglo[0] #se toma como referencia el numero mas bajo que es 0\n",
        "    #aqui se crea el bucle for\n",
        "    for numero in arreglo: #aqui se validan todos los numero de la lista\n",
        "        if numero > mayor: # aqui indicamos que si el numero actual es mayor que nuestra referencia\n",
        "            mayor = numero #aqui se actualixa la variable mayor\n",
        "        else:\n",
        "            # No hace nada si numero no es mayor que mayor\n",
        "            pass\n",
        "    return mayor\n",
        "\n",
        "resultado = numeromayor(numeros)\n",
        "#aqui nos imprime el numero mayor de la lista declarada al inicio\n",
        "print(f\"El número mayor es: {resultado}\")"
      ]
    },
    {
      "cell_type": "code",
      "source": [
        "#2 Crea una función que reciba un arreglo de cadenas de texto. La función debe devolver la cantidad de# palabras que contienen más de 5 caracteres utilizando un contador y una estructura if-else\n",
        "\n",
        "palabras = [\"Toyota\", \"Renault\", \"Kia\", \"Chevrolet\", \"Nissan\", \"Volkswagen\"] #Se define una lista llamada palabras\n",
        "def palabrasl (lista):#aqui definimos la funcion (palabrasl)\n",
        "    contador = 0 #en la funcion creamos una variable (contador) la cual inicia en 0\n",
        "    for palabra in lista: #aqui iniciamos ciclo for para revisar todas las palabras de la lista\n",
        "        if len(palabra) > 5:#usamos la condicional if para verifar las palabras que contengan mas de 5 letras\n",
        "            contador += 1 #aqui aumenta de a uno si la condicion anterio se cumple\n",
        "        else: #si la palabra no tiene 5 letras no hace nada\n",
        "            pass\n",
        "    return contador#\n",
        "\n",
        "resultado = palabrasl (palabras)# aqui usamos la funcion palabrasl y guardamos el resultado de la variable resultado\n",
        "\n",
        "print(f\"La cantidad de palabras con más de 5 caracteres es: {resultado}\")#aqui imprimimos el mensaje"
      ],
      "metadata": {
        "colab": {
          "base_uri": "https://localhost:8080/"
        },
        "id": "7EYqK-rGQhPs",
        "outputId": "96fc5fff-f56c-46ad-9445-a5807f84b3b6"
      },
      "execution_count": null,
      "outputs": [
        {
          "output_type": "stream",
          "name": "stdout",
          "text": [
            "La cantidad de palabras con más de 5 caracteres es: 5\n"
          ]
        }
      ]
    },
    {
      "cell_type": "code",
      "source": [
        "#3 Escribe una función que reciba un arreglo de números y una variable que indique un número de referencia. La función debe devolver un arreglo con los números mayores al número de referencia usando un ciclo y una estructura if-else.\n",
        "numeros = [1, 2, 3, 4, 5, 6, 7, 8, 9, 10]#Se define una lista llamada numeros\n",
        "referencia = 8 # esta variable es la refecia\n",
        "\n",
        "def numayores(arr, referencia):#aqui definimos la funcion (numayores)\n",
        "    resultado = [] #dentro de la funcion creamos una lista vacia para guardar los numero mayores\n",
        "    for num in arr:#iniciamos ciclo for\n",
        "        if num > referencia:#aqui verificamos si el numero atual es mayor a la referencia que es 8\n",
        "            resultado.append(num)# si la condicion anterior se cumple se usa el meto append\n",
        "    return resultado # aqui se recorre la lista y muestra los numero mayores\n",
        "\n",
        "numeroma = numayores(numeros, referencia)\n",
        "print(f\"Los numeros mayores a {referencia} son: {numeroma}\")#aqui imprimimos el mensaje"
      ],
      "metadata": {
        "colab": {
          "base_uri": "https://localhost:8080/"
        },
        "id": "eHWHSS1jVlQY",
        "outputId": "c03e4795-9e34-4e54-f966-1a8e8c9f03e4"
      },
      "execution_count": null,
      "outputs": [
        {
          "output_type": "stream",
          "name": "stdout",
          "text": [
            "Los numeros mayores a 8 son: [9, 10]\n"
          ]
        }
      ]
    },
    {
      "cell_type": "code",
      "source": [
        "#4 Escribe una función que reciba un arreglo de números y devuelva la suma de todos los números negativos del arreglo usando un ciclo y una estructura if-else.\n",
        "\n",
        "numerosnegativos = [-1 -2, -3, -4, -5, -6, -7, -8, -9]#Se define una lista llamada numeros negativos\n",
        "\n",
        "def suma (numero):#aqui definimos la funcion (suma)\n",
        "  suma = 0 ##dentro de la funcion creamos una variable\n",
        "  for num in numero:#iniciamos ciclo for\n",
        "    if num < 0:#indicamos que si el numero es negatio mo menor que 0 lo suma a la variable suma\n",
        "      suma += num\n",
        "  else:\n",
        "    pass\n",
        "\n",
        "    return suma\n",
        "\n",
        "resultado = suma(numerosnegativos)# aqui llamos la funcion suma y numeros negativos y guardamos en resulrado\n",
        "print(f\"La suma es: {resultado}\")#aqui imprimimos el mensaje\n",
        "\n",
        "\n"
      ],
      "metadata": {
        "colab": {
          "base_uri": "https://localhost:8080/"
        },
        "id": "TOwi5CtJSGjy",
        "outputId": "6b6e58fc-87c8-4349-891b-4c6dce939756"
      },
      "execution_count": null,
      "outputs": [
        {
          "output_type": "stream",
          "name": "stdout",
          "text": [
            "La suma es: -45\n"
          ]
        }
      ]
    },
    {
      "cell_type": "code",
      "source": [
        "#5 Crea una función que reciba un arreglo de enteros y una variable que indique un número. La función debe devolver un valor booleano indicando si ese número se encuentra en el arreglo usando una estructura if-else.\n",
        "numeros = [1, 2, 3, 4, 5, 6, 7, 8, 9, 10]#Se define una lista llamada numeros\n",
        "encontrar = 11\n",
        "def bnumero(arreglo, numero):#aqui definimos la funcion (bnumero)\n",
        "    for num in arreglo:#iniciamos ciclo for\n",
        "        if num == numero:#aqui comparamos si num es igual al numero que queremos encontrar\n",
        "            return True\n",
        "    return False #\n",
        "\n",
        "if bnumero(numeros, encontrar):#aqui la funcion bnumero verifica en dos variables (numero y encontrar ) si en numero que deseamos esta en la lista\n",
        "\n",
        "    print(f\"El número {encontrar} esta en la lista .\")#aqui imprimimos el mensaje si el mumero esta en la lista\n",
        "else:\n",
        "    print(f\"El número {encontrar} no esta en la lista .\")#aqui imprimimos el mensaje si el numero no esta en la lista"
      ],
      "metadata": {
        "id": "7mHmBtPBcDSg",
        "colab": {
          "base_uri": "https://localhost:8080/"
        },
        "outputId": "8115201b-cf10-4ef0-f68e-f875d21b3e02"
      },
      "execution_count": null,
      "outputs": [
        {
          "output_type": "stream",
          "name": "stdout",
          "text": [
            "El número 11 no esta en la lista .\n"
          ]
        }
      ]
    },
    {
      "cell_type": "code",
      "source": [
        "#6. Ejercicio con Arreglo de Números Positivos Dado un arreglo con números enteros, escribe una función que determine si todos los números son positivos. La función debe devolver verdadero si todos los números son positivos, de lo contrario, debe devolver falso utilizando una estructura if-else.\n",
        "numeros = [1, 2, 3, 4, 5, 6, 7, 8, 9, 10]#Se define una lista llamada numeros\n",
        "\n",
        "def numpositivo(arr):#aqui definimos la funcion (numpositivo) y su parametro es arr (una lista)\n",
        "  for num in arr:#iniciamos ciclo for\n",
        "    if num < 0:#aqui comparamos si num es menos a 0\n",
        "      return False # si encuentra un numero negativo se imprime false\n",
        "  return True #si encuentra un numero positivo se imprime tru\n",
        "\n",
        "resultado = numpositivo (numeros)\n",
        "print(f\"los números son positivos.{resultado}\")#aqui imprimimos el mensaje\n",
        "\n"
      ],
      "metadata": {
        "id": "qB1tYA-fftrh",
        "colab": {
          "base_uri": "https://localhost:8080/"
        },
        "outputId": "6980ee0a-1eea-46f2-a25c-1b3c0dc02631"
      },
      "execution_count": null,
      "outputs": [
        {
          "output_type": "stream",
          "name": "stdout",
          "text": [
            "los números son positivos.False\n"
          ]
        }
      ]
    }
  ]
}