{
  "nbformat": 4,
  "nbformat_minor": 0,
  "metadata": {
    "colab": {
      "provenance": []
    },
    "kernelspec": {
      "name": "python3",
      "display_name": "Python 3"
    },
    "language_info": {
      "name": "python"
    }
  },
  "cells": [
    {
      "cell_type": "markdown",
      "source": [],
      "metadata": {
        "id": "Z-733HUodt4K"
      }
    },
    {
      "cell_type": "markdown",
      "source": [
        "-Bucle for es un bucle que se utiliza para imprimir una lista o diccionario definido.\n",
        "\n",
        "-Buecle wile es un bucle que se utiliza cuando se cumple una condicion\n",
        "\n"
      ],
      "metadata": {
        "id": "0c3zHCgfdu71"
      }
    },
    {
      "cell_type": "code",
      "source": [
        "# Ejemplo de bucle for\n",
        "\n",
        "#se crea una lista llamada mcarros\n",
        "mcarros = [\"toyota\", \"nissan\", \"renault\", \"porsche\",]\n",
        "\n",
        "#se crea el bucle ford\n",
        "for mcarros in mcarros:\n",
        "\n",
        "#se imprime el bucle ford\n",
        "    print(mcarros)\n"
      ],
      "metadata": {
        "colab": {
          "base_uri": "https://localhost:8080/"
        },
        "id": "i56Yps1Ie-3t",
        "outputId": "a0599240-3f8f-4bce-d79d-2ffb0b36a870"
      },
      "execution_count": null,
      "outputs": [
        {
          "output_type": "stream",
          "name": "stdout",
          "text": [
            "toyota\n",
            "nissan\n",
            "renault\n",
            "porsche\n"
          ]
        }
      ]
    },
    {
      "cell_type": "markdown",
      "source": [
        "https://harrics.github.io/FichasADSO-3065121/for/for.mp3"
      ],
      "metadata": {
        "id": "TNNAyugWgsb8"
      }
    },
    {
      "cell_type": "code",
      "source": [
        "year = [1992, 2000, 1996, 1897,]\n",
        "for year in year:\n",
        "    print(year)"
      ],
      "metadata": {
        "colab": {
          "base_uri": "https://localhost:8080/"
        },
        "id": "19u2h3leguhK",
        "outputId": "17cb7d50-de01-46a7-e43a-41270a3c121e"
      },
      "execution_count": null,
      "outputs": [
        {
          "output_type": "stream",
          "name": "stdout",
          "text": [
            "1992\n",
            "2000\n",
            "1996\n",
            "1897\n"
          ]
        }
      ]
    },
    {
      "cell_type": "code",
      "source": [
        "#bucle wile\n",
        "#se crea una variable h con valor de 0\n",
        "h = 0\n",
        "#se inicia el bucle con una condicion de h < 9 y si la condicion se cumple se ejecuta\n",
        "while h < 9:\n",
        "#imprime la variable h\n",
        "    print(h)\n",
        "#se incrementa el valor de h de uno en uno empezando en 0 si la condicion sigue siendo verdadera\n",
        "    h += 1"
      ],
      "metadata": {
        "colab": {
          "base_uri": "https://localhost:8080/"
        },
        "id": "MNc5V9P-jyk5",
        "outputId": "f930e735-3beb-4b54-cd09-dcc0cdb76fcb"
      },
      "execution_count": null,
      "outputs": [
        {
          "output_type": "stream",
          "name": "stdout",
          "text": [
            "0\n",
            "1\n",
            "2\n",
            "3\n",
            "4\n",
            "5\n",
            "6\n",
            "7\n",
            "8\n"
          ]
        }
      ]
    },
    {
      "cell_type": "markdown",
      "source": [
        "https://harrics.github.io/FichasADSO-3065121/while/While.mp3aqui va el audio"
      ],
      "metadata": {
        "id": "zoIEOZuKkds0"
      }
    },
    {
      "cell_type": "code",
      "source": [
        "r = 0\n",
        "while r < 20:\n",
        "    print(r)\n",
        "    r += 1"
      ],
      "metadata": {
        "colab": {
          "base_uri": "https://localhost:8080/"
        },
        "id": "r1ZNJkZokhG7",
        "outputId": "e11eb2d6-3e26-497a-df6f-ef4e23520a8c"
      },
      "execution_count": null,
      "outputs": [
        {
          "output_type": "stream",
          "name": "stdout",
          "text": [
            "0\n",
            "1\n",
            "2\n",
            "3\n",
            "4\n",
            "5\n",
            "6\n",
            "7\n",
            "8\n",
            "9\n",
            "10\n",
            "11\n",
            "12\n",
            "13\n",
            "14\n",
            "15\n",
            "16\n",
            "17\n",
            "18\n",
            "19\n"
          ]
        }
      ]
    }
  ]
}